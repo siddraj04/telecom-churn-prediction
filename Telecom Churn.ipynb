{
 "cells": [
  {
   "cell_type": "markdown",
   "id": "9d8cabaf-d0e6-4c80-8245-9b7e1aa410f3",
   "metadata": {},
   "source": [
    "Step 1: Loading and Preparing the Data\n",
    "1.1 Load the Data and Basic Inspection"
   ]
  },
  {
   "cell_type": "code",
   "execution_count": null,
   "id": "84cd6e92-ccbd-4f17-ab86-190f6cad933d",
   "metadata": {},
   "outputs": [],
   "source": [
    "# Importing necessary libraries\n",
    "import pandas as pd\n",
    "\n",
    "# Load dataset\n",
    "telecom_data = pd.read_csv('telecom_churn_data.csv')\n",
    "print(telecom_data.head())  # Display first few rows\n",
    "print(telecom_data.info())  # Check data types and missing values\n",
    "print(telecom_data.describe())  # Summary statistics\n"
   ]
  },
  {
   "cell_type": "markdown",
   "id": "e88931d7-0b9e-4467-82a5-ebe9a8a12c47",
   "metadata": {},
   "source": [
    "1.2 Filter High-Value Customers"
   ]
  },
  {
   "cell_type": "code",
   "execution_count": null,
   "id": "3c52d632-9672-4e2d-9b6a-968aabc3831e",
   "metadata": {},
   "outputs": [],
   "source": [
    "# Calculate average recharge amount for months 6 and 7\n",
    "telecom_data['avg_rech_amt_6_7'] = (telecom_data['total_rech_amt_6'] + telecom_data['total_rech_amt_7']) / 2\n",
    "\n",
    "# 70th percentile of average recharge amount\n",
    "percentile_70 = telecom_data['avg_rech_amt_6_7'].quantile(0.7)\n",
    "\n",
    "# Filter high-value customers\n",
    "high_value_customers = telecom_data[telecom_data['avg_rech_amt_6_7'] >= percentile_70]\n",
    "print(f\"Number of high-value customers: {high_value_customers.shape[0]}\")\n"
   ]
  },
  {
   "cell_type": "markdown",
   "id": "5ad54ca4-b4ca-4b16-8b8d-cc5db877f2e6",
   "metadata": {},
   "source": [
    "1.3 Tag Churners and Remove Churn Phase Attributes"
   ]
  },
  {
   "cell_type": "code",
   "execution_count": null,
   "id": "e4a2d4be-da71-4c6f-8f20-1389edfa25aa",
   "metadata": {},
   "outputs": [],
   "source": [
    "# Tag churners (0: Non-churn, 1: Churn)\n",
    "high_value_customers['churn'] = high_value_customers.apply(\n",
    "    lambda row: 1 if (row['total_ic_mou_9'] == 0 and row['total_og_mou_9'] == 0 and \n",
    "                      row['vol_2g_mb_9'] == 0 and row['vol_3g_mb_9'] == 0) else 0, axis=1)\n",
    "\n",
    "# Remove churn phase columns\n",
    "churn_columns = [col for col in high_value_customers.columns if '_9' in col]\n",
    "high_value_customers_cleaned = high_value_customers.drop(columns=churn_columns)\n",
    "print(high_value_customers_cleaned['churn'].value_counts())\n"
   ]
  },
  {
   "cell_type": "markdown",
   "id": "f7034a98-bace-4353-a970-22898a2aa14d",
   "metadata": {},
   "source": [
    "Step 2: Exploratory Data Analysis (EDA)\n",
    "2.1 Visualize Churn Rate"
   ]
  },
  {
   "cell_type": "code",
   "execution_count": null,
   "id": "03488394-99e2-4202-9fc3-037ea6418f6f",
   "metadata": {},
   "outputs": [],
   "source": [
    "import matplotlib.pyplot as plt\n",
    "import seaborn as sns\n",
    "\n",
    "# Plot churn rate\n",
    "plt.figure(figsize=(6,4))\n",
    "sns.countplot(x='churn', data=high_value_customers_cleaned)\n",
    "plt.title(\"Churn Rate in High-Value Customers\")\n",
    "plt.show()\n"
   ]
  },
  {
   "cell_type": "markdown",
   "id": "7ee3a67b-e9b3-4daf-9731-8fbf33b6ea70",
   "metadata": {},
   "source": [
    "2.2 Analyze Recharge Amount vs. Churn"
   ]
  },
  {
   "cell_type": "code",
   "execution_count": null,
   "id": "083ba30d-4894-4ad7-b4b8-b94a2cbdd104",
   "metadata": {},
   "outputs": [],
   "source": [
    "# Boxplot of recharge amount for churned vs non-churned customers\n",
    "plt.figure(figsize=(8,6))\n",
    "sns.boxplot(x='churn', y='avg_rech_amt_6_7', data=high_value_customers_cleaned)\n",
    "plt.title(\"Average Recharge Amount (Months 6 and 7) vs Churn\")\n",
    "plt.show()\n"
   ]
  },
  {
   "cell_type": "markdown",
   "id": "35846b3c-4b49-46c8-8b97-6222fad9b0dd",
   "metadata": {},
   "source": [
    "Step 4: Modeling and Evaluation\n",
    "4.1 Train-Test Split"
   ]
  },
  {
   "cell_type": "code",
   "execution_count": null,
   "id": "f1abfa2f-2db1-473c-998c-8688eee7ea05",
   "metadata": {},
   "outputs": [],
   "source": [
    "from sklearn.model_selection import train_test_split\n",
    "\n",
    "# Define target and features\n",
    "X = high_value_customers_cleaned.drop(columns=['churn'])\n",
    "y = high_value_customers_cleaned['churn']\n",
    "\n",
    "# Split data into train and test sets\n",
    "X_train, X_test, y_train, y_test = train_test_split(X, y, test_size=0.3, random_state=42)\n"
   ]
  },
  {
   "cell_type": "markdown",
   "id": "f4fb9cf5-b2f0-456a-b4ed-cd00d250e7c1",
   "metadata": {},
   "source": [
    "4.2 Logistic Regression with Class Imbalance Handling"
   ]
  },
  {
   "cell_type": "code",
   "execution_count": null,
   "id": "01470eac-fc5f-415c-a70d-fdcde1d8d86a",
   "metadata": {},
   "outputs": [],
   "source": [
    "from sklearn.linear_model import LogisticRegression\n",
    "from sklearn.metrics import classification_report, confusion_matrix\n",
    "\n",
    "# Initialize and train model with balanced class weights\n",
    "model = LogisticRegression(class_weight='balanced', max_iter=1000, random_state=42)\n",
    "model.fit(X_train, y_train)\n",
    "\n",
    "# Predictions\n",
    "y_pred = model.predict(X_test)\n",
    "print(confusion_matrix(y_test, y_pred))\n",
    "print(classification_report(y_test, y_pred))\n"
   ]
  }
 ],
 "metadata": {
  "kernelspec": {
   "display_name": "Python 3 (ipykernel)",
   "language": "python",
   "name": "python3"
  },
  "language_info": {
   "codemirror_mode": {
    "name": "ipython",
    "version": 3
   },
   "file_extension": ".py",
   "mimetype": "text/x-python",
   "name": "python",
   "nbconvert_exporter": "python",
   "pygments_lexer": "ipython3",
   "version": "3.11.7"
  }
 },
 "nbformat": 4,
 "nbformat_minor": 5
}
